{
 "cells": [
  {
   "cell_type": "code",
   "execution_count": null,
   "metadata": {},
   "outputs": [],
   "source": []
  },
  {
   "cell_type": "code",
   "execution_count": null,
   "metadata": {
    "scrolled": true
   },
   "outputs": [
    {
     "name": "stdout",
     "output_type": "stream",
     "text": [
      "start\n",
      "start\n",
      "start\n",
      "start\n"
     ]
    }
   ],
   "source": [
    "import cv2\n",
    "\n",
    "if __name__ == '__main__':\n",
    "    # 定数定義\n",
    "    ESC_KEY = 27     # Escキー\n",
    "    INTERVAL= 33     # 待ち時間\n",
    "    FRAME_RATE = 50  # fps\n",
    "\n",
    "    DEVICE_ID = 2\n",
    "    GAUSSIAN_WINDOW_NAME = \"gaussian\"\n",
    "\n",
    "    # 分類器の指定\n",
    "    cascade_file = \"haarcascade_frontalface_default.xml\"\n",
    "    cascade = cv2.CascadeClassifier(cascade_file)\n",
    "\n",
    "    # カメラ映像取得\n",
    "    cap = cv2.VideoCapture(DEVICE_ID)\n",
    "\n",
    "    # 初期フレームの読込\n",
    "    end_flag, c_frame = cap.read()\n",
    "    height, width, channels = c_frame.shape\n",
    "    cv2.namedWindow(GAUSSIAN_WINDOW_NAME)\n",
    "\n",
    "    counter = 0\n",
    "\n",
    "    # 変換処理ループ\n",
    "    while end_flag:\n",
    "\n",
    "        # 画像の取得と顔の検出\n",
    "        img = c_frame\n",
    "        img_gray = cv2.cvtColor(img, cv2.COLOR_BGR2GRAY)\n",
    "        face_list = cascade.detectMultiScale(img_gray, minSize=(100, 100))\n",
    "\n",
    "        if counter == 20:\n",
    "            !open flower_effect2.mp4\n",
    "            print('START')\n",
    "            break\n",
    "        if counter == 10:\n",
    "            !open flower_effect1.mp4\n",
    "            print('start')\n",
    "            if len(face_list) != 0:\n",
    "                counter += 1\n",
    "            else:\n",
    "                counter = 11\n",
    "        else:\n",
    "            if len(face_list) != 0:\n",
    "                counter += 1\n",
    "            else:\n",
    "                counter = 0\n",
    "\n",
    "        for (x, y, w, h) in face_list:\n",
    "            color = (0, 0, 225)\n",
    "            pen_w = 3\n",
    "            cv2.rectangle(img_gray, (x, y), (x+w, y+h), color, thickness = pen_w)\n",
    "            \n",
    "        cv2.imshow(GAUSSIAN_WINDOW_NAME, img_gray)\n",
    "\n",
    "\n",
    "        # Escキーで終了\n",
    "        key = cv2.waitKey(INTERVAL)\n",
    "        if key == ESC_KEY:\n",
    "            break\n",
    "\n",
    "        # 次のフレーム読み込み\n",
    "        end_flag, c_frame = cap.read()\n",
    "\n",
    "    # 終了処理\n",
    "    cv2.destroyAllWindows()\n",
    "    cap.release()"
   ]
  },
  {
   "cell_type": "code",
   "execution_count": null,
   "metadata": {},
   "outputs": [],
   "source": []
  },
  {
   "cell_type": "code",
   "execution_count": null,
   "metadata": {},
   "outputs": [],
   "source": []
  },
  {
   "cell_type": "code",
   "execution_count": null,
   "metadata": {},
   "outputs": [],
   "source": []
  },
  {
   "cell_type": "code",
   "execution_count": null,
   "metadata": {},
   "outputs": [],
   "source": []
  }
 ],
 "metadata": {
  "kernelspec": {
   "display_name": "Python 3",
   "language": "python",
   "name": "python3"
  },
  "language_info": {
   "codemirror_mode": {
    "name": "ipython",
    "version": 3
   },
   "file_extension": ".py",
   "mimetype": "text/x-python",
   "name": "python",
   "nbconvert_exporter": "python",
   "pygments_lexer": "ipython3",
   "version": "3.7.3"
  }
 },
 "nbformat": 4,
 "nbformat_minor": 2
}
